{
 "cells": [
  {
   "cell_type": "code",
   "execution_count": 4,
   "id": "c8212225-4dc7-4b05-88f4-42b09b0bcc07",
   "metadata": {
    "scrolled": true
   },
   "outputs": [
    {
     "data": {
      "application/vnd.jupyter.widget-view+json": {
       "model_id": "",
       "version_major": 2,
       "version_minor": 0
      },
      "text/plain": [
       "Optimization Progress:   0%|          | 0/300 [00:00<?, ?pipeline/s]"
      ]
     },
     "metadata": {},
     "output_type": "display_data"
    },
    {
     "name": "stdout",
     "output_type": "stream",
     "text": [
      "\n",
      "Generation 1 - Current best internal CV score: 0.9692307692307693\n",
      "\n",
      "Generation 2 - Current best internal CV score: 0.9692307692307693\n",
      "\n",
      "Generation 3 - Current best internal CV score: 0.9802197802197803\n",
      "\n",
      "Generation 4 - Current best internal CV score: 0.9802197802197803\n",
      "\n",
      "Generation 5 - Current best internal CV score: 0.9802197802197803\n",
      "\n",
      "Best pipeline: RandomForestClassifier(GradientBoostingClassifier(input_matrix, learning_rate=0.5, max_depth=7, max_features=0.45, min_samples_leaf=11, min_samples_split=14, n_estimators=100, subsample=0.7000000000000001), bootstrap=False, criterion=entropy, max_features=0.9500000000000001, min_samples_leaf=9, min_samples_split=18, n_estimators=100)\n",
      "Accuracy: 0.9649\n",
      "Confusion Matrix:\n",
      "[[65  2]\n",
      " [ 2 45]]\n",
      "Classification Report:\n",
      "              precision    recall  f1-score   support\n",
      "\n",
      "           0       0.97      0.97      0.97        67\n",
      "           1       0.96      0.96      0.96        47\n",
      "\n",
      "    accuracy                           0.96       114\n",
      "   macro avg       0.96      0.96      0.96       114\n",
      "weighted avg       0.96      0.96      0.96       114\n",
      "\n"
     ]
    },
    {
     "name": "stderr",
     "output_type": "stream",
     "text": [
      "D:\\anaconda\\Lib\\site-packages\\sklearn\\base.py:493: UserWarning: X does not have valid feature names, but GradientBoostingClassifier was fitted with feature names\n",
      "  warnings.warn(\n",
      "D:\\anaconda\\Lib\\site-packages\\sklearn\\base.py:493: UserWarning: X does not have valid feature names, but GradientBoostingClassifier was fitted with feature names\n",
      "  warnings.warn(\n"
     ]
    },
    {
     "data": {
      "text/plain": [
       "['best_model.pkl']"
      ]
     },
     "execution_count": 4,
     "metadata": {},
     "output_type": "execute_result"
    }
   ],
   "source": [
    "# Import necessary libraries\n",
    "import pandas as pd\n",
    "from sklearn.model_selection import train_test_split\n",
    "from sklearn.metrics import accuracy_score, classification_report, confusion_matrix\n",
    "from tpot import TPOTClassifier\n",
    "import joblib  # For saving the model\n",
    "import matplotlib.pyplot as plt\n",
    "import seaborn as sns\n",
    "\n",
    "# Load Data\n",
    "df=pd.read_csv(r\"C:\\Users\\Habibur Rahaman\\Downloads\\data.csv\")\n",
    "\n",
    "# Define column names (adjust if needed)\n",
    "columns = ['id', 'diagnosis', 'radius_mean', 'texture_mean', 'perimeter_mean',\n",
    "           'area_mean', 'smoothness_mean', 'compactness_mean', 'concavity_mean',\n",
    "           'concave points_mean', 'symmetry_mean', 'fractal_dimension_mean',\n",
    "           'radius_se', 'texture_se', 'perimeter_se', 'area_se', 'smoothness_se',\n",
    "           'compactness_se', 'concavity_se', 'concave points_se', 'symmetry_se',\n",
    "           'fractal_dimension_se', 'radius_worst', 'texture_worst',\n",
    "           'perimeter_worst', 'area_worst', 'smoothness_worst',\n",
    "           'compactness_worst', 'concavity_worst', 'concave points_worst',\n",
    "           'symmetry_worst', 'fractal_dimension_worst', 'Unnamed: 32']\n",
    "\n",
    "df.columns = columns\n",
    "\n",
    "# Drop unnecessary columns\n",
    "df = df.drop(['id', 'Unnamed: 32'], axis=1)\n",
    "\n",
    "# Handle missing values\n",
    "#df.fillna(df.mean(), inplace=True)\n",
    "\n",
    "# Encode categorical variables\n",
    "df['diagnosis'] = df['diagnosis'].map({'M': 1, 'B': 0})\n",
    "\n",
    "# Define features and target\n",
    "X = df.drop('diagnosis', axis=1)\n",
    "y = df['diagnosis']\n",
    "\n",
    "# Train-test split\n",
    "X_train, X_test, y_train, y_test = train_test_split(X, y, test_size=0.2, random_state=0)\n",
    "\n",
    "# AutoML with TPOT\n",
    "tpot = TPOTClassifier(generations=5, population_size=50, verbosity=2, random_state=0)\n",
    "tpot.fit(X_train, y_train)\n",
    "\n",
    "# Predictions\n",
    "y_pred = tpot.predict(X_test)\n",
    "\n",
    "# Evaluation\n",
    "accuracy = accuracy_score(y_test, y_pred)\n",
    "conf_matrix = confusion_matrix(y_test, y_pred)\n",
    "class_report = classification_report(y_test, y_pred)\n",
    "\n",
    "print(f\"Accuracy: {accuracy:.4f}\")\n",
    "print(f\"Confusion Matrix:\\n{conf_matrix}\")\n",
    "print(f\"Classification Report:\\n{class_report}\")\n",
    "\n",
    "# Save the best pipeline\n",
    "tpot.export('best_pipeline.py')\n",
    "\n",
    "# Save the trained model\n",
    "joblib.dump(tpot.fitted_pipeline_, 'best_model.pkl')\n"
   ]
  },
  {
   "cell_type": "code",
   "execution_count": 5,
   "id": "c453d007-dec5-4495-a61d-b2e07c94ffc8",
   "metadata": {},
   "outputs": [
    {
     "name": "stdout",
     "output_type": "stream",
     "text": [
      "Requirement already satisfied: jupyterlab_widgets in d:\\anaconda\\lib\\site-packages (3.0.9)Note: you may need to restart the kernel to use updated packages.\n",
      "\n"
     ]
    }
   ],
   "source": [
    "pip install jupyterlab_widgets\n"
   ]
  },
  {
   "cell_type": "code",
   "execution_count": null,
   "id": "e9b6d9df-4dd5-4593-b813-09f395ede5a4",
   "metadata": {},
   "outputs": [],
   "source": []
  }
 ],
 "metadata": {
  "kernelspec": {
   "display_name": "Python 3 (ipykernel)",
   "language": "python",
   "name": "python3"
  },
  "language_info": {
   "codemirror_mode": {
    "name": "ipython",
    "version": 3
   },
   "file_extension": ".py",
   "mimetype": "text/x-python",
   "name": "python",
   "nbconvert_exporter": "python",
   "pygments_lexer": "ipython3",
   "version": "3.11.7"
  }
 },
 "nbformat": 4,
 "nbformat_minor": 5
}
